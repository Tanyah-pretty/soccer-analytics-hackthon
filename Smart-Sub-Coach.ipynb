{
 "cells": [
  {
   "cell_type": "markdown",
   "id": "ab20ba80",
   "metadata": {},
   "source": [
    "# ⚽ Smart Sub Coach: AI-Powered Substitution Recommender for Football Matches\n",
    "\n",
    "## 🚀 Overview\n",
    "\n",
    "**Smart Sub Coach** is an intelligent substitution recommender system developed for the **Educait Soccer Analytics Hackathon 2.0**. This AI-driven solution analyzes real-time and historical player performance data to suggest **optimal substitutions** during a match.\n",
    "\n",
    "The system goes beyond basic fatigue tracking by combining in-game performance dips, match context, and tactical awareness to **recommend when and who to sub**, helping coaches make smarter, data-backed decisions"
   ]
  },
  {
   "cell_type": "code",
   "execution_count": 1,
   "id": "2fca7ebb",
   "metadata": {},
   "outputs": [],
   "source": [
    "import pandas as pd"
   ]
  }
 ],
 "metadata": {
  "kernelspec": {
   "display_name": ".venv",
   "language": "python",
   "name": "python3"
  },
  "language_info": {
   "codemirror_mode": {
    "name": "ipython",
    "version": 3
   },
   "file_extension": ".py",
   "mimetype": "text/x-python",
   "name": "python",
   "nbconvert_exporter": "python",
   "pygments_lexer": "ipython3",
   "version": "3.13.5"
  }
 },
 "nbformat": 4,
 "nbformat_minor": 5
}
